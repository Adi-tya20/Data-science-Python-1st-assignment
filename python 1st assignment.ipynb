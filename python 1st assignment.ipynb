{
 "cells": [
  {
   "cell_type": "raw",
   "id": "1450f0e1-f181-4293-813e-e7d3cdf25d20",
   "metadata": {},
   "source": [
    "Q1 Explain with a example each when to use a for loop and a while loop."
   ]
  },
  {
   "cell_type": "raw",
   "id": "a26d46b0-ac93-421a-a2d9-000cdb17a620",
   "metadata": {},
   "source": [
    "A for loop is used to repeat any data of python which could be string, list, tuple, dictionary in a given sequence. Where as a while loop is used to run the specific code while a condition is True. When the condition will false then while loop will stop running that specific code."
   ]
  },
  {
   "cell_type": "code",
   "execution_count": 1,
   "id": "2734a2f4-9df9-4d4d-aab4-75da7d286bf2",
   "metadata": {},
   "outputs": [],
   "source": [
    "#example of use of a for loop."
   ]
  },
  {
   "cell_type": "code",
   "execution_count": 2,
   "id": "837521d6-da92-4c90-a78f-94a1a7e66c87",
   "metadata": {},
   "outputs": [],
   "source": [
    "l = [\"aditya\" , \"pandey\" , \"pwskills\" , \"datascience\"]"
   ]
  },
  {
   "cell_type": "code",
   "execution_count": 3,
   "id": "556e11a7-7819-465c-8ecd-90cc36ff95dd",
   "metadata": {},
   "outputs": [
    {
     "data": {
      "text/plain": [
       "['aditya', 'pandey', 'pwskills', 'datascience']"
      ]
     },
     "execution_count": 3,
     "metadata": {},
     "output_type": "execute_result"
    }
   ],
   "source": [
    "l"
   ]
  },
  {
   "cell_type": "code",
   "execution_count": 4,
   "id": "bfc97496-fae1-4211-978b-0beb36fff34d",
   "metadata": {},
   "outputs": [
    {
     "name": "stdout",
     "output_type": "stream",
     "text": [
      "aditya\n",
      "pandey\n",
      "pwskills\n",
      "datascience\n"
     ]
    }
   ],
   "source": [
    "for i in l :\n",
    "    print(i)"
   ]
  },
  {
   "cell_type": "code",
   "execution_count": 5,
   "id": "3e8e0b46-6443-4769-b744-dcbe546e8267",
   "metadata": {},
   "outputs": [],
   "source": [
    "l1 = [\"i want to learn python completely\"]"
   ]
  },
  {
   "cell_type": "code",
   "execution_count": 6,
   "id": "57a5dcff-0a70-46db-8a55-2a762638c35a",
   "metadata": {},
   "outputs": [
    {
     "data": {
      "text/plain": [
       "['i want to learn python completely']"
      ]
     },
     "execution_count": 6,
     "metadata": {},
     "output_type": "execute_result"
    }
   ],
   "source": [
    "l1"
   ]
  },
  {
   "cell_type": "code",
   "execution_count": 7,
   "id": "b310130b-437f-4a7c-b0f4-9864e6126e70",
   "metadata": {},
   "outputs": [
    {
     "name": "stdout",
     "output_type": "stream",
     "text": [
      "aditya\n",
      "pandey\n",
      "pwskills\n",
      "datascience\n",
      "['i want to learn python completely']\n"
     ]
    }
   ],
   "source": [
    "for i in l :\n",
    "    print(i)\n",
    "else :\n",
    "    print(l1)"
   ]
  },
  {
   "cell_type": "code",
   "execution_count": 8,
   "id": "9cef6f7d-333b-4f71-add0-cff060350ca1",
   "metadata": {},
   "outputs": [],
   "source": [
    "#here we see that by using a for loop in list we can print the complete data in a sequence and also we can add the data in that sequence."
   ]
  },
  {
   "cell_type": "code",
   "execution_count": 9,
   "id": "486f3880-08cc-4939-b26c-7c4f9b224377",
   "metadata": {},
   "outputs": [],
   "source": [
    "#example of a while loop"
   ]
  },
  {
   "cell_type": "code",
   "execution_count": 10,
   "id": "48378b84-9a44-472f-9e5c-0020ef3f64ed",
   "metadata": {},
   "outputs": [],
   "source": [
    "#print tables of a number"
   ]
  },
  {
   "cell_type": "code",
   "execution_count": 11,
   "id": "23b983e1-05bc-4961-b160-72bc199758a3",
   "metadata": {},
   "outputs": [
    {
     "name": "stdin",
     "output_type": "stream",
     "text": [
      "enter your number 12\n"
     ]
    },
    {
     "name": "stdout",
     "output_type": "stream",
     "text": [
      "12 * 1 = 12\n",
      "12 * 2 = 24\n",
      "12 * 3 = 36\n",
      "12 * 4 = 48\n",
      "12 * 5 = 60\n",
      "12 * 6 = 72\n",
      "12 * 7 = 84\n",
      "12 * 8 = 96\n",
      "12 * 9 = 108\n",
      "12 * 10 = 120\n"
     ]
    }
   ],
   "source": [
    "n = int(input(\"enter your number\"))\n",
    "i = 1\n",
    "\n",
    "while i<=10 :\n",
    "    result = n*i\n",
    "    print(n , \"*\" , i , \"=\" , result)\n",
    "    i = i+1\n",
    "        \n"
   ]
  },
  {
   "cell_type": "code",
   "execution_count": 13,
   "id": "0a167d9f-1ef4-40f4-86b4-7011f50eb3cb",
   "metadata": {},
   "outputs": [
    {
     "name": "stdin",
     "output_type": "stream",
     "text": [
      "enter your number 15\n"
     ]
    },
    {
     "name": "stdout",
     "output_type": "stream",
     "text": [
      "15 * 1 = 15\n",
      "15 * 2 = 30\n",
      "15 * 3 = 45\n",
      "15 * 4 = 60\n",
      "15 * 5 = 75\n",
      "15 * 6 = 90\n",
      "15 * 7 = 105\n",
      "15 * 8 = 120\n",
      "15 * 9 = 135\n",
      "15 * 10 = 150\n",
      "15 * 11 = 165\n",
      "15 * 12 = 180\n",
      "15 * 13 = 195\n",
      "15 * 14 = 210\n",
      "15 * 15 = 225\n",
      "15 * 16 = 240\n",
      "15 * 17 = 255\n",
      "15 * 18 = 270\n",
      "15 * 19 = 285\n",
      "15 * 20 = 300\n"
     ]
    }
   ],
   "source": [
    "n = int(input(\"enter your number\"))\n",
    "i = 1\n",
    "\n",
    "while i<=20 :\n",
    "    result = n*i\n",
    "    print(n , \"*\" , i , \"=\" , result)\n",
    "    i = i+1\n",
    "        \n"
   ]
  },
  {
   "cell_type": "raw",
   "id": "f960c5ce-06f9-4962-80be-2ba5a1be96e5",
   "metadata": {},
   "source": [
    "Q2 Write a python program to print the sum and product of the first 10 natural numbers using for and while loop."
   ]
  },
  {
   "cell_type": "code",
   "execution_count": 16,
   "id": "44f4c97d-0a62-46c4-b1e2-8974b2e48ead",
   "metadata": {},
   "outputs": [],
   "source": [
    "#sum of first 10 natural numbers using for loop"
   ]
  },
  {
   "cell_type": "code",
   "execution_count": 17,
   "id": "bc76c9cc-c906-4a8c-a30d-cfff165f934d",
   "metadata": {},
   "outputs": [
    {
     "name": "stdout",
     "output_type": "stream",
     "text": [
      "1\n",
      "3\n",
      "6\n",
      "10\n",
      "15\n",
      "21\n",
      "28\n",
      "36\n",
      "45\n",
      "55\n"
     ]
    }
   ],
   "source": [
    "n = 0\n",
    "for i in range(1,11):\n",
    "    n = n+i\n",
    "    print(n)\n",
    "    "
   ]
  },
  {
   "cell_type": "code",
   "execution_count": 18,
   "id": "d7abecc8-f2e8-4d0e-a77d-d7cf1b903d0b",
   "metadata": {},
   "outputs": [],
   "source": [
    "#now sum of first 10 natural numbers using while loop"
   ]
  },
  {
   "cell_type": "code",
   "execution_count": 19,
   "id": "c791a339-8688-41da-a5d1-cbf11d363826",
   "metadata": {},
   "outputs": [
    {
     "name": "stdin",
     "output_type": "stream",
     "text": [
      "enter your number 10\n"
     ]
    },
    {
     "data": {
      "text/plain": [
       "55"
      ]
     },
     "execution_count": 19,
     "metadata": {},
     "output_type": "execute_result"
    }
   ],
   "source": [
    "n = int(input(\"enter your number\"))\n",
    "starting_point = 0\n",
    "counter = 1\n",
    "\n",
    "while counter<=10:\n",
    "    starting_point = starting_point + counter\n",
    "    counter = counter + 1\n",
    "starting_point    "
   ]
  },
  {
   "cell_type": "raw",
   "id": "db1fd6b5-ea2c-4b03-a8fb-6df74ba2258a",
   "metadata": {},
   "source": [
    "Q3 Create a python program to compute the electricity bill for a household.\n",
    "The per-unit charge in rupees are as follows: For the first 100 units, the user will be charged Rs4.5 per unit, for the next 100 units, the user will be charged Rs 6 per unit, and the next 100 units the user will be charged Rs. 10 per unit, After 300 units and above the user will be charged Rs. 20 per unit.     \n"
   ]
  },
  {
   "cell_type": "code",
   "execution_count": 38,
   "id": "7f0592b3-2c85-418e-8481-dd830f522c5a",
   "metadata": {},
   "outputs": [
    {
     "name": "stdin",
     "output_type": "stream",
     "text": [
      "enter the units consumed 310\n"
     ]
    },
    {
     "name": "stdout",
     "output_type": "stream",
     "text": [
      "The electricity bill is: 2250.0\n"
     ]
    }
   ],
   "source": [
    "units = int(input(\"enter the units consumed\"))\n",
    "bill = 0\n",
    "\n",
    "\n",
    "if units<=100:\n",
    "    bill = units * 4.5\n",
    "    print(\"The electricity bill is:\" , bill)\n",
    "    \n",
    "else:\n",
    "    if units<=200:\n",
    "        bill = 100*4.5 + (units- 100)*6\n",
    "    else:\n",
    "        if units<=300:\n",
    "            bill = 100*4.5 + 100*6 + (units - 200)*10\n",
    "        else:\n",
    "            bill = 100*4.5 + 100*6 + 100*10 + (units - 300)*20\n",
    "    \n",
    "    print(\"The electricity bill is:\" , bill)"
   ]
  },
  {
   "cell_type": "raw",
   "id": "a2530996-89be-4b1a-8fdb-6e42bd6ab8df",
   "metadata": {},
   "source": [
    "Q4 Create a list of numbers from 1 to 100. Use for loop and while loop to calculate the cube of each number and if the cube of that number is divisible by 4 or 5 then append that number in a list and print that list."
   ]
  },
  {
   "cell_type": "code",
   "execution_count": 39,
   "id": "b4a1ee41-4603-4128-90be-07fa228a7922",
   "metadata": {},
   "outputs": [],
   "source": [
    "#using for loop"
   ]
  },
  {
   "cell_type": "code",
   "execution_count": 56,
   "id": "366a5062-eb47-416b-86b4-2fb6bb256b2b",
   "metadata": {},
   "outputs": [
    {
     "ename": "TypeError",
     "evalue": "'int' object is not iterable",
     "output_type": "error",
     "traceback": [
      "\u001b[0;31m---------------------------------------------------------------------------\u001b[0m",
      "\u001b[0;31mTypeError\u001b[0m                                 Traceback (most recent call last)",
      "Cell \u001b[0;32mIn[56], line 5\u001b[0m\n\u001b[1;32m      2\u001b[0m     cube \u001b[38;5;241m=\u001b[39m i \u001b[38;5;241m*\u001b[39m\u001b[38;5;241m*\u001b[39m \u001b[38;5;241m3\u001b[39m\n\u001b[1;32m      3\u001b[0m divisible_by_4_or_5 \u001b[38;5;241m=\u001b[39m []\n\u001b[0;32m----> 5\u001b[0m \u001b[38;5;28;01mfor\u001b[39;00m i \u001b[38;5;129;01min\u001b[39;00m cube:\n\u001b[1;32m      6\u001b[0m     \u001b[38;5;28;01mif\u001b[39;00m i \u001b[38;5;241m%\u001b[39m \u001b[38;5;241m4\u001b[39m \u001b[38;5;241m==\u001b[39m \u001b[38;5;241m0\u001b[39m \u001b[38;5;129;01mor\u001b[39;00m i \u001b[38;5;241m%\u001b[39m \u001b[38;5;241m5\u001b[39m \u001b[38;5;241m==\u001b[39m \u001b[38;5;241m0\u001b[39m:\n\u001b[1;32m      7\u001b[0m         divisible_by_4_or_5\u001b[38;5;241m.\u001b[39mappend(i)\n",
      "\u001b[0;31mTypeError\u001b[0m: 'int' object is not iterable"
     ]
    }
   ],
   "source": [
    "\n",
    "for i in range(1,101):\n",
    "    cube = i ** 3\n",
    "divisible_by_4_or_5 = []\n",
    "\n",
    "for i in :\n",
    "    if i % 4 == 0 or i % 5 == 0:\n",
    "        divisible_by_4_or_5.append(i)\n",
    "        \n",
    "print(\"using only for loop:\")\n",
    "for i in divisible_by_4_or_5:\n",
    "    print(i)"
   ]
  },
  {
   "cell_type": "code",
   "execution_count": 70,
   "id": "342d07e3-6a04-47fe-bb73-5f3768d75f79",
   "metadata": {},
   "outputs": [
    {
     "ename": "TypeError",
     "evalue": "'int' object is not subscriptable",
     "output_type": "error",
     "traceback": [
      "\u001b[0;31m---------------------------------------------------------------------------\u001b[0m",
      "\u001b[0;31mTypeError\u001b[0m                                 Traceback (most recent call last)",
      "Cell \u001b[0;32mIn[70], line 7\u001b[0m\n\u001b[1;32m      4\u001b[0m     l\u001b[38;5;241m.\u001b[39mappend(i)\n\u001b[1;32m      5\u001b[0m divisible_by_4_or_5 \u001b[38;5;241m=\u001b[39m []\n\u001b[0;32m----> 7\u001b[0m \u001b[38;5;28;01mfor\u001b[39;00m i \u001b[38;5;129;01min\u001b[39;00m \u001b[43mcube\u001b[49m\u001b[43m[\u001b[49m\u001b[38;5;28;43mrange\u001b[39;49m\u001b[43m(\u001b[49m\u001b[38;5;241;43m1\u001b[39;49m\u001b[43m,\u001b[49m\u001b[43m \u001b[49m\u001b[38;5;241;43m101\u001b[39;49m\u001b[43m)\u001b[49m\u001b[43m]\u001b[49m:\n\u001b[1;32m      8\u001b[0m     \u001b[38;5;28;01mif\u001b[39;00m i \u001b[38;5;241m%\u001b[39m \u001b[38;5;241m4\u001b[39m \u001b[38;5;241m==\u001b[39m \u001b[38;5;241m0\u001b[39m \u001b[38;5;129;01mor\u001b[39;00m i \u001b[38;5;241m%\u001b[39m \u001b[38;5;241m5\u001b[39m \u001b[38;5;241m==\u001b[39m \u001b[38;5;241m0\u001b[39m:\n\u001b[1;32m      9\u001b[0m        divisible_by_4_or_5\u001b[38;5;241m.\u001b[39mappend(i)\n",
      "\u001b[0;31mTypeError\u001b[0m: 'int' object is not subscriptable"
     ]
    }
   ],
   "source": [
    "l = []\n",
    "for i in range(1 , 101):\n",
    "    cube = i ** 3\n",
    "    l.append(i)\n",
    "divisible_by_4_or_5 = []\n",
    "\n",
    "for i in cube[range(1, 101)]:\n",
    "    if i % 4 == 0 or i % 5 == 0:\n",
    "       divisible_by_4_or_5.append(i)\n",
    "\n",
    "print(\"Using for loo:\")\n",
    "for i in divisible_by_4_or_5:\n",
    "    print(i)"
   ]
  },
  {
   "cell_type": "code",
   "execution_count": 71,
   "id": "2704b111-6de6-4f01-b3df-aec55b934ce3",
   "metadata": {},
   "outputs": [],
   "source": [
    "#using for loop"
   ]
  },
  {
   "cell_type": "code",
   "execution_count": 82,
   "id": "4d25fb09-1ceb-4fe4-9144-21a150ac28ef",
   "metadata": {},
   "outputs": [
    {
     "name": "stdout",
     "output_type": "stream",
     "text": [
      "Using for loop:\n",
      "8\n",
      "64\n",
      "125\n",
      "216\n",
      "512\n",
      "1000\n",
      "1728\n",
      "2744\n",
      "3375\n",
      "4096\n",
      "5832\n",
      "8000\n",
      "10648\n",
      "13824\n",
      "15625\n",
      "17576\n",
      "21952\n",
      "27000\n",
      "32768\n",
      "39304\n",
      "42875\n",
      "46656\n",
      "54872\n",
      "64000\n",
      "74088\n",
      "85184\n",
      "91125\n",
      "97336\n",
      "110592\n",
      "125000\n",
      "140608\n",
      "157464\n",
      "166375\n",
      "175616\n",
      "195112\n",
      "216000\n",
      "238328\n",
      "262144\n",
      "274625\n",
      "287496\n",
      "314432\n",
      "343000\n",
      "373248\n",
      "405224\n",
      "421875\n",
      "438976\n",
      "474552\n",
      "512000\n",
      "551368\n",
      "592704\n",
      "614125\n",
      "636056\n",
      "681472\n",
      "729000\n",
      "778688\n",
      "830584\n",
      "857375\n",
      "884736\n",
      "941192\n",
      "1000000\n"
     ]
    }
   ],
   "source": [
    "cubes = [i**3 for i in range(1, 101)]\n",
    "divisible_by_4_or_5 = []\n",
    "\n",
    "for i in cubes:\n",
    "    if i % 4 == 0 or i % 5 == 0:\n",
    "        divisible_by_4_or_5.append(i)\n",
    "        \n",
    "print(\"Using for loop:\")\n",
    "for i in divisible_by_4_or_5:\n",
    "    print(i)"
   ]
  },
  {
   "cell_type": "code",
   "execution_count": 83,
   "id": "5f0ac6b7-7b1a-44d0-860b-112c60a306ed",
   "metadata": {},
   "outputs": [],
   "source": [
    "#using while loop"
   ]
  },
  {
   "cell_type": "code",
   "execution_count": 94,
   "id": "f12db4e3-93ff-496e-87b6-958b9175cc11",
   "metadata": {},
   "outputs": [
    {
     "name": "stdout",
     "output_type": "stream",
     "text": [
      "Using while loop:\n",
      "8\n",
      "64\n",
      "125\n",
      "216\n",
      "512\n",
      "1000\n",
      "1728\n",
      "2744\n",
      "3375\n",
      "4096\n",
      "5832\n",
      "8000\n",
      "10648\n",
      "13824\n",
      "15625\n",
      "17576\n",
      "21952\n",
      "27000\n",
      "32768\n",
      "39304\n",
      "42875\n",
      "46656\n",
      "54872\n",
      "64000\n",
      "74088\n",
      "85184\n",
      "91125\n",
      "97336\n",
      "110592\n",
      "125000\n",
      "140608\n",
      "157464\n",
      "166375\n",
      "175616\n",
      "195112\n",
      "216000\n",
      "238328\n",
      "262144\n",
      "274625\n",
      "287496\n",
      "314432\n",
      "343000\n",
      "373248\n",
      "405224\n",
      "421875\n",
      "438976\n",
      "474552\n",
      "512000\n",
      "551368\n",
      "592704\n",
      "614125\n",
      "636056\n",
      "681472\n",
      "729000\n",
      "778688\n",
      "830584\n",
      "857375\n",
      "884736\n",
      "941192\n",
      "1000000\n"
     ]
    }
   ],
   "source": [
    "cubes = [i**3 for i in range(1, 101)]\n",
    "divisible_by_4_or_5 = []\n",
    "\n",
    "counter = 0\n",
    "while counter < len(cubes):\n",
    "    i = cubes[counter]\n",
    "    if i % 4 == 0 or i % 5 == 0:\n",
    "        divisible_by_4_or_5.append(i)\n",
    "    counter += 1\n",
    "    \n",
    "print(\"Using while loop:\")\n",
    "counter = 0\n",
    "while counter < len(divisible_by_4_or_5):\n",
    "    print(divisible_by_4_or_5[counter])\n",
    "    counter += 1"
   ]
  },
  {
   "cell_type": "raw",
   "id": "f7d240bb-ac7d-4ae6-923c-0567d224c305",
   "metadata": {},
   "source": [
    "Q5 Write a program to filter count vowels in the below-given string.\n",
    "string = \"I want to become a data scientist\""
   ]
  },
  {
   "cell_type": "code",
   "execution_count": 106,
   "id": "b2f42b34-87ff-42d1-add2-ea7787807c03",
   "metadata": {},
   "outputs": [
    {
     "name": "stdout",
     "output_type": "stream",
     "text": [
      "The number of vowels in the string is: 12\n"
     ]
    }
   ],
   "source": [
    "s = \"I want to become a data scientist.\"\n",
    "vowels = \"aeiouAEIOU\"\n",
    "count = 0\n",
    "for char in s:\n",
    "    if char in vowels:\n",
    "        count += 1\n",
    "print(\"The number of vowels in the string is:\" , count)        "
   ]
  },
  {
   "cell_type": "code",
   "execution_count": null,
   "id": "c4a94ab1-0bca-47ad-9f20-e5b39406e6bb",
   "metadata": {},
   "outputs": [],
   "source": []
  }
 ],
 "metadata": {
  "kernelspec": {
   "display_name": "Python 3 (ipykernel)",
   "language": "python",
   "name": "python3"
  },
  "language_info": {
   "codemirror_mode": {
    "name": "ipython",
    "version": 3
   },
   "file_extension": ".py",
   "mimetype": "text/x-python",
   "name": "python",
   "nbconvert_exporter": "python",
   "pygments_lexer": "ipython3",
   "version": "3.10.8"
  }
 },
 "nbformat": 4,
 "nbformat_minor": 5
}
